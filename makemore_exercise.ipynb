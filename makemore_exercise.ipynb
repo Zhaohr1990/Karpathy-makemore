{
 "cells": [
  {
   "cell_type": "code",
   "execution_count": null,
   "metadata": {},
   "outputs": [],
   "source": [
    "# Exercises:\n",
    "# E01: train a trigram language model, i.e. take two characters as an input to predict the 3rd one. Feel free to use either counting or a neural net. Evaluate the loss; Did it improve over a bigram model? Done\n",
    "# E02: split up the dataset randomly into 80% train set, 10% dev set, 10% test set. Train the bigram and trigram models only on the training set. Evaluate them on dev and test splits. What can you see? Done\n",
    "# E03: use the dev set to tune the strength of smoothing (or regularization) for the trigram model - i.e. try many possibilities and see which one works best based on the dev set loss. What patterns can you see in the train and dev set loss as you tune this strength? Take the best setting of the smoothing and evaluate on the test set once and at the end. How good of a loss do you achieve?\n",
    "# No major impact on bigram, will try trigram\n",
    "# E04: we saw that our 1-hot vectors merely select a row of W, so producing these vectors explicitly feels wasteful. Can you delete our use of F.one_hot in favor of simply indexing into rows of W? Done\n",
    "# E05: look up and use F.cross_entropy instead. You should achieve the same result. Can you think of why we'd prefer to use F.cross_entropy instead? Done\n",
    "# E06: meta-exercise! Think of a fun/interesting exercise and complete it."
   ]
  },
  {
   "cell_type": "code",
   "execution_count": 1,
   "metadata": {},
   "outputs": [],
   "source": [
    "# Import all necessary packages\n",
    "import torch\n",
    "import torch.nn as nn\n",
    "import torch.nn.functional as F"
   ]
  },
  {
   "cell_type": "code",
   "execution_count": 2,
   "metadata": {},
   "outputs": [],
   "source": [
    "from makemore_origin import create_dataset, data_loader, MLP, generate, evaluate\n",
    "\n",
    "train_dataset, val_dataset, test_dataset, chars, max_word_length = create_dataset('names.txt')"
   ]
  },
  {
   "cell_type": "code",
   "execution_count": 3,
   "metadata": {},
   "outputs": [],
   "source": [
    "_, train_loader = data_loader(train_dataset)"
   ]
  },
  {
   "cell_type": "code",
   "execution_count": 4,
   "metadata": {},
   "outputs": [],
   "source": [
    "# system inits\n",
    "torch.manual_seed(714)\n",
    "torch.cuda.manual_seed_all(714)"
   ]
  },
  {
   "cell_type": "code",
   "execution_count": 10,
   "metadata": {},
   "outputs": [
    {
     "name": "stdout",
     "output_type": "stream",
     "text": [
      "tensor(2.2933, grad_fn=<NllLossBackward0>)\n",
      "tensor(2.1077, grad_fn=<NllLossBackward0>)\n",
      "tensor(2.3126, grad_fn=<NllLossBackward0>)\n",
      "tensor(2.4840, grad_fn=<NllLossBackward0>)\n",
      "tensor(2.2758, grad_fn=<NllLossBackward0>)\n",
      "tensor(2.2334, grad_fn=<NllLossBackward0>)\n",
      "tensor(2.1362, grad_fn=<NllLossBackward0>)\n",
      "tensor(2.3783, grad_fn=<NllLossBackward0>)\n",
      "tensor(2.2377, grad_fn=<NllLossBackward0>)\n",
      "tensor(2.0832, grad_fn=<NllLossBackward0>)\n",
      "tensor(2.1511, grad_fn=<NllLossBackward0>)\n",
      "tensor(2.3669, grad_fn=<NllLossBackward0>)\n",
      "tensor(2.2658, grad_fn=<NllLossBackward0>)\n",
      "tensor(2.1250, grad_fn=<NllLossBackward0>)\n",
      "tensor(2.0958, grad_fn=<NllLossBackward0>)\n",
      "tensor(2.1236, grad_fn=<NllLossBackward0>)\n",
      "tensor(2.2679, grad_fn=<NllLossBackward0>)\n",
      "tensor(2.2569, grad_fn=<NllLossBackward0>)\n",
      "tensor(2.0821, grad_fn=<NllLossBackward0>)\n",
      "tensor(2.3119, grad_fn=<NllLossBackward0>)\n",
      "tensor(2.0229, grad_fn=<NllLossBackward0>)\n",
      "tensor(2.0272, grad_fn=<NllLossBackward0>)\n",
      "tensor(2.0830, grad_fn=<NllLossBackward0>)\n",
      "tensor(2.1241, grad_fn=<NllLossBackward0>)\n",
      "tensor(2.1540, grad_fn=<NllLossBackward0>)\n",
      "tensor(2.1012, grad_fn=<NllLossBackward0>)\n",
      "tensor(2.2428, grad_fn=<NllLossBackward0>)\n",
      "tensor(2.1314, grad_fn=<NllLossBackward0>)\n",
      "tensor(2.2621, grad_fn=<NllLossBackward0>)\n",
      "tensor(2.0996, grad_fn=<NllLossBackward0>)\n",
      "tensor(2.3584, grad_fn=<NllLossBackward0>)\n",
      "tensor(2.0715, grad_fn=<NllLossBackward0>)\n",
      "tensor(2.1884, grad_fn=<NllLossBackward0>)\n",
      "tensor(2.2816, grad_fn=<NllLossBackward0>)\n",
      "tensor(2.2388, grad_fn=<NllLossBackward0>)\n",
      "tensor(2.3535, grad_fn=<NllLossBackward0>)\n",
      "tensor(2.1208, grad_fn=<NllLossBackward0>)\n",
      "tensor(2.1284, grad_fn=<NllLossBackward0>)\n",
      "tensor(2.1764, grad_fn=<NllLossBackward0>)\n",
      "tensor(2.1267, grad_fn=<NllLossBackward0>)\n",
      "tensor(2.1204, grad_fn=<NllLossBackward0>)\n",
      "tensor(2.1529, grad_fn=<NllLossBackward0>)\n",
      "tensor(2.1411, grad_fn=<NllLossBackward0>)\n",
      "tensor(2.2451, grad_fn=<NllLossBackward0>)\n",
      "tensor(2.1526, grad_fn=<NllLossBackward0>)\n",
      "tensor(2.1736, grad_fn=<NllLossBackward0>)\n",
      "tensor(2.2201, grad_fn=<NllLossBackward0>)\n",
      "tensor(2.2733, grad_fn=<NllLossBackward0>)\n",
      "tensor(2.3026, grad_fn=<NllLossBackward0>)\n",
      "tensor(2.1844, grad_fn=<NllLossBackward0>)\n"
     ]
    }
   ],
   "source": [
    "# Implement a train function (without regularization, to-do: E03, E05)\n",
    "epoch = 50\n",
    "model = MLP(vocal_size=train_dataset.get_vocab_size(), markov_order=3, emb_dim=32, hid_dim=32)\n",
    "#model = Ngram(vocal_size=train_dataset.get_vocab_size(), markov_order=3)\n",
    "optimizer = torch.optim.AdamW(model.parameters(), lr=0.001, weight_decay=0.01) # weight decay is equivalent to adding L2 regularization for SGD, similar for momentum algorithm and ADAM \n",
    "\n",
    "for i in range(epoch):\n",
    "    for _, (xspt, yspt) in enumerate(train_loader):\n",
    "        logits, loss = model(xspt, yspt)\n",
    "        #print(loss)\n",
    "\n",
    "        # calculate the gradient, update the weights\n",
    "        model.zero_grad(set_to_none=True) # model.zero_grad = optimizer.zero_grad if all model parameters are in one optimizer\n",
    "        loss.backward()\n",
    "        optimizer.step()\n",
    "    \n",
    "    print(loss)\n",
    "    "
   ]
  },
  {
   "cell_type": "code",
   "execution_count": 11,
   "metadata": {},
   "outputs": [
    {
     "name": "stdout",
     "output_type": "stream",
     "text": [
      "2.1693944931030273\n",
      "2.1735575199127197\n"
     ]
    }
   ],
   "source": [
    "print(evaluate(model, val_dataset))\n",
    "print(evaluate(model, test_dataset))"
   ]
  },
  {
   "cell_type": "code",
   "execution_count": 12,
   "metadata": {},
   "outputs": [
    {
     "name": "stdout",
     "output_type": "stream",
     "text": [
      "emn\n",
      "edanie\n",
      "avin\n",
      "jazus\n",
      "cer\n",
      "oveoh\n",
      "jayn\n",
      "javiahola\n",
      "gra\n",
      "lenailah\n"
     ]
    }
   ],
   "source": [
    "for _ in range(10):\n",
    "    print(train_dataset.decode(generate(model)))"
   ]
  },
  {
   "cell_type": "code",
   "execution_count": 2,
   "metadata": {},
   "outputs": [],
   "source": [
    "from makemore_hz import create_dataset, data_loader, Ngram, MLP, generate, evaluate\n",
    "\n",
    "train_dataset, val_dataset, test_dataset, chars, max_word_length = create_dataset('names.txt')\n",
    "_, train_loader = data_loader(train_dataset)"
   ]
  },
  {
   "cell_type": "code",
   "execution_count": 3,
   "metadata": {},
   "outputs": [],
   "source": [
    "# system inits\n",
    "torch.manual_seed(714)\n",
    "torch.cuda.manual_seed_all(714)"
   ]
  },
  {
   "cell_type": "code",
   "execution_count": 6,
   "metadata": {},
   "outputs": [
    {
     "name": "stdout",
     "output_type": "stream",
     "text": [
      "tensor(2.1687, grad_fn=<NllLossBackward0>)\n",
      "tensor(2.4988, grad_fn=<NllLossBackward0>)\n",
      "tensor(2.1344, grad_fn=<NllLossBackward0>)\n",
      "tensor(2.5001, grad_fn=<NllLossBackward0>)\n",
      "tensor(1.9615, grad_fn=<NllLossBackward0>)\n",
      "tensor(2.4044, grad_fn=<NllLossBackward0>)\n",
      "tensor(2.6330, grad_fn=<NllLossBackward0>)\n",
      "tensor(2.5020, grad_fn=<NllLossBackward0>)\n",
      "tensor(2.3249, grad_fn=<NllLossBackward0>)\n",
      "tensor(2.2595, grad_fn=<NllLossBackward0>)\n",
      "tensor(2.0175, grad_fn=<NllLossBackward0>)\n",
      "tensor(1.9703, grad_fn=<NllLossBackward0>)\n",
      "tensor(2.2407, grad_fn=<NllLossBackward0>)\n",
      "tensor(2.0533, grad_fn=<NllLossBackward0>)\n",
      "tensor(2.5439, grad_fn=<NllLossBackward0>)\n",
      "tensor(2.4547, grad_fn=<NllLossBackward0>)\n",
      "tensor(2.6966, grad_fn=<NllLossBackward0>)\n",
      "tensor(2.6772, grad_fn=<NllLossBackward0>)\n",
      "tensor(2.2537, grad_fn=<NllLossBackward0>)\n",
      "tensor(2.1651, grad_fn=<NllLossBackward0>)\n",
      "tensor(1.8903, grad_fn=<NllLossBackward0>)\n",
      "tensor(2.3534, grad_fn=<NllLossBackward0>)\n",
      "tensor(2.1596, grad_fn=<NllLossBackward0>)\n",
      "tensor(2.1409, grad_fn=<NllLossBackward0>)\n",
      "tensor(2.5665, grad_fn=<NllLossBackward0>)\n",
      "tensor(1.8133, grad_fn=<NllLossBackward0>)\n",
      "tensor(2.4448, grad_fn=<NllLossBackward0>)\n",
      "tensor(2.2280, grad_fn=<NllLossBackward0>)\n",
      "tensor(2.2762, grad_fn=<NllLossBackward0>)\n",
      "tensor(2.4477, grad_fn=<NllLossBackward0>)\n",
      "tensor(2.1853, grad_fn=<NllLossBackward0>)\n",
      "tensor(2.1096, grad_fn=<NllLossBackward0>)\n",
      "tensor(2.0524, grad_fn=<NllLossBackward0>)\n",
      "tensor(2.4749, grad_fn=<NllLossBackward0>)\n",
      "tensor(2.0437, grad_fn=<NllLossBackward0>)\n",
      "tensor(2.6223, grad_fn=<NllLossBackward0>)\n",
      "tensor(2.1850, grad_fn=<NllLossBackward0>)\n",
      "tensor(2.3621, grad_fn=<NllLossBackward0>)\n",
      "tensor(2.2280, grad_fn=<NllLossBackward0>)\n",
      "tensor(2.1998, grad_fn=<NllLossBackward0>)\n",
      "tensor(2.2555, grad_fn=<NllLossBackward0>)\n",
      "tensor(1.8646, grad_fn=<NllLossBackward0>)\n",
      "tensor(2.4218, grad_fn=<NllLossBackward0>)\n",
      "tensor(2.0540, grad_fn=<NllLossBackward0>)\n",
      "tensor(2.4997, grad_fn=<NllLossBackward0>)\n",
      "tensor(1.9853, grad_fn=<NllLossBackward0>)\n",
      "tensor(2.4020, grad_fn=<NllLossBackward0>)\n",
      "tensor(2.4300, grad_fn=<NllLossBackward0>)\n",
      "tensor(2.3912, grad_fn=<NllLossBackward0>)\n",
      "tensor(2.1397, grad_fn=<NllLossBackward0>)\n"
     ]
    }
   ],
   "source": [
    "# Implement a train function (without regularization, to-do: E03, E05)\n",
    "epoch = 50\n",
    "model = MLP(vocal_size=train_dataset.get_vocab_size(), markov_order=3, emb_dim=32, hid_dim=32)\n",
    "#model = Ngram(vocal_size=train_dataset.get_vocab_size(), markov_order=3)\n",
    "optimizer = torch.optim.AdamW(model.parameters(), lr=0.01, weight_decay=0.01) # weight decay is equivalent to adding L2 regularization for SGD, similar for momentum algorithm and ADAM \n",
    "\n",
    "for i in range(epoch):\n",
    "    for _, (xspt, yspt) in enumerate(train_loader):\n",
    "        logits, loss = model(xspt, yspt)\n",
    "        #print(loss)\n",
    "\n",
    "        # calculate the gradient, update the weights\n",
    "        model.zero_grad(set_to_none=True) # model.zero_grad = optimizer.zero_grad if all model parameters are in one optimizer\n",
    "        loss.backward()\n",
    "        optimizer.step()\n",
    "    \n",
    "    print(loss)"
   ]
  },
  {
   "cell_type": "code",
   "execution_count": 56,
   "metadata": {},
   "outputs": [
    {
     "name": "stdout",
     "output_type": "stream",
     "text": [
      "2.2812349796295166\n",
      "2.2880470752716064\n"
     ]
    }
   ],
   "source": [
    "print(evaluate(model, val_dataset))\n",
    "print(evaluate(model, test_dataset))"
   ]
  },
  {
   "cell_type": "code",
   "execution_count": 58,
   "metadata": {},
   "outputs": [
    {
     "name": "stdout",
     "output_type": "stream",
     "text": [
      "mawaadarnia\n",
      "ahki\n",
      "kshazilyan\n",
      "cad\n",
      "pyon\n",
      "hagurizelel\n",
      "amira\n",
      "aivoomaleenly\n",
      "jahreelus\n",
      "laica\n"
     ]
    }
   ],
   "source": [
    "for _ in range(10):\n",
    "    print(train_dataset.decode(generate(model, train_dataset)))"
   ]
  },
  {
   "cell_type": "code",
   "execution_count": null,
   "metadata": {},
   "outputs": [],
   "source": [
    "# # Implement a data-loader (without batch_size, to-do: E02, add batch_size using torch data_set, data_loader)\n",
    "# words = open('names.txt', 'r').read().splitlines() # load the data\n",
    "# chrs = sorted(set(''.join(words))) # get characters \n",
    "# ctoi = {c:(i+1) for i, c in enumerate(chrs)} # construct the character to integer mapping\n",
    "# ctoi['.'] = 0 # add special character . \n",
    "# itoc = {i:c for c, i in ctoi.items()} # construct the integer to character mapping\n",
    "\n",
    "# xs = []\n",
    "# ys = []\n",
    "# for w in words:\n",
    "#     w = ['.'] + list(w) + ['.'] # add leading and trailing dots \n",
    "#     for ch1, ch2 in zip(w, w[1:]):\n",
    "#         xs.append(ctoi[ch1])\n",
    "#         ys.append(ctoi[ch2])"
   ]
  },
  {
   "cell_type": "code",
   "execution_count": null,
   "metadata": {},
   "outputs": [],
   "source": []
  }
 ],
 "metadata": {
  "kernelspec": {
   "display_name": "Python 3",
   "language": "python",
   "name": "python3"
  },
  "language_info": {
   "codemirror_mode": {
    "name": "ipython",
    "version": 3
   },
   "file_extension": ".py",
   "mimetype": "text/x-python",
   "name": "python",
   "nbconvert_exporter": "python",
   "pygments_lexer": "ipython3",
   "version": "3.10.10"
  }
 },
 "nbformat": 4,
 "nbformat_minor": 2
}
